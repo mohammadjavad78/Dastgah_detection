{
 "cells": [
  {
   "cell_type": "code",
   "execution_count": 1,
   "metadata": {},
   "outputs": [],
   "source": [
    "import sys\n",
    "sys.path.insert(0, '../Libraries')\n",
    "sys.path.insert(0, '../Datas/')\n",
    "from PCA import *\n",
    "from LDA import *\n",
    "from mlp import *\n",
    "from Load_data import *"
   ]
  },
  {
   "cell_type": "code",
   "execution_count": 2,
   "metadata": {},
   "outputs": [],
   "source": [
    "df=loaddata()"
   ]
  },
  {
   "cell_type": "code",
   "execution_count": 3,
   "metadata": {},
   "outputs": [],
   "source": [
    "feature_vectors=df[[f\"feature{i}\" for i in range(205)]]\n",
    "y=df[\"dastgah\"]"
   ]
  },
  {
   "cell_type": "code",
   "execution_count": 4,
   "metadata": {},
   "outputs": [],
   "source": [
    "Pca=pca(feature_vectors,y)\n",
    "feature_vectors,y=Pca.PCAout(50)"
   ]
  },
  {
   "cell_type": "code",
   "execution_count": 5,
   "metadata": {},
   "outputs": [],
   "source": [
    "Lda=lda(feature_vectors,y)\n",
    "feature_vectors,y=Lda.LDAout(5)"
   ]
  },
  {
   "cell_type": "code",
   "execution_count": 6,
   "metadata": {},
   "outputs": [
    {
     "name": "stderr",
     "output_type": "stream",
     "text": [
      "c:\\Users\\moham\\AppData\\Local\\Programs\\Python\\Python38\\lib\\site-packages\\sklearn\\neural_network\\_multilayer_perceptron.py:702: ConvergenceWarning: Stochastic Optimizer: Maximum iterations (200) reached and the optimization hasn't converged yet.\n",
      "  warnings.warn(\n"
     ]
    }
   ],
   "source": [
    "mlp=MLP(feature_vectors, y,0.3)"
   ]
  },
  {
   "cell_type": "code",
   "execution_count": 7,
   "metadata": {},
   "outputs": [
    {
     "name": "stdout",
     "output_type": "stream",
     "text": [
      "              precision    recall  f1-score   support\n",
      "\n",
      "         0.0       0.10      0.07      0.08        27\n",
      "         1.0       0.32      0.39      0.35        28\n",
      "         2.0       0.35      0.38      0.36        32\n",
      "         3.0       0.29      0.29      0.29        31\n",
      "         4.0       0.29      0.26      0.27        27\n",
      "         5.0       0.33      0.39      0.36        31\n",
      "         6.0       0.39      0.34      0.37        32\n",
      "\n",
      "    accuracy                           0.31       208\n",
      "   macro avg       0.30      0.30      0.30       208\n",
      "weighted avg       0.30      0.31      0.30       208\n",
      "\n"
     ]
    }
   ],
   "source": [
    "mlp.accurate()"
   ]
  },
  {
   "cell_type": "code",
   "execution_count": null,
   "metadata": {},
   "outputs": [],
   "source": []
  }
 ],
 "metadata": {
  "kernelspec": {
   "display_name": "Python 3",
   "language": "python",
   "name": "python3"
  },
  "language_info": {
   "codemirror_mode": {
    "name": "ipython",
    "version": 3
   },
   "file_extension": ".py",
   "mimetype": "text/x-python",
   "name": "python",
   "nbconvert_exporter": "python",
   "pygments_lexer": "ipython3",
   "version": "3.8.8"
  },
  "orig_nbformat": 4,
  "vscode": {
   "interpreter": {
    "hash": "e1e50afc35c5bf48b6480db009e29dffe9b3dc8b7d11ef5d69051a76ab35e225"
   }
  }
 },
 "nbformat": 4,
 "nbformat_minor": 2
}
