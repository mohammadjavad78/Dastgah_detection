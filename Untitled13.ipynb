{
  "nbformat": 4,
  "nbformat_minor": 0,
  "metadata": {
    "colab": {
      "provenance": []
    },
    "kernelspec": {
      "name": "python3",
      "display_name": "Python 3"
    },
    "language_info": {
      "name": "python"
    }
  },
  "cells": [
    {
      "cell_type": "code",
      "execution_count": 1,
      "metadata": {
        "id": "31LFvbkXODdi"
      },
      "outputs": [],
      "source": [
        "from Load_data import *\n",
        "from sklearn.model_selection import train_test_split"
      ]
    },
    {
      "cell_type": "code",
      "source": [
        "# df=loaddata()"
      ],
      "metadata": {
        "id": "sPPkL8OjObCp"
      },
      "execution_count": 2,
      "outputs": []
    },
    {
      "cell_type": "code",
      "source": [
        "df=loaddata()"
      ],
      "metadata": {
        "id": "iZXNvv0kOmqr"
      },
      "execution_count": 3,
      "outputs": []
    },
    {
      "cell_type": "code",
      "source": [
        "df"
      ],
      "metadata": {
        "colab": {
          "base_uri": "https://localhost:8080/",
          "height": 487
        },
        "id": "Dc5b79RMIIM7",
        "outputId": "c1045327-14de-4a12-aea2-85c7a1a99e87"
      },
      "execution_count": 4,
      "outputs": [
        {
          "output_type": "execute_result",
          "data": {
            "text/plain": [
              "     feature0  feature1  feature2  feature3  feature4  feature5  feature6  \\\n",
              "0    0.371348  0.221127  0.205891  0.109653  0.083445  0.133292  0.159897   \n",
              "1    0.541083  0.436222  0.299089  0.255462  0.312083  0.162965  0.180992   \n",
              "2    0.384192  0.274454  0.273839  0.333110  0.208912  0.362177  0.178951   \n",
              "3    0.303602  0.349614  0.396037  0.528857  0.202162  0.095978  0.071150   \n",
              "4    0.441167  0.436519  0.152523  0.045271  0.054622  0.053557  0.063186   \n",
              "..        ...       ...       ...       ...       ...       ...       ...   \n",
              "686  0.379531  0.269446  0.473439  0.361178  0.294814  0.254590  0.283632   \n",
              "687  0.062384  0.272099  0.480047  0.428873  0.365869  0.165394  0.351914   \n",
              "688  0.112918  0.314155  0.565400  0.350887  0.223955  0.211370  0.319308   \n",
              "689  0.629596  0.487371  0.381202  0.234159  0.186800  0.118447  0.121110   \n",
              "690  0.084301  0.305056  0.592697  0.294746  0.330974  0.281483  0.347369   \n",
              "\n",
              "     feature7  feature8  feature9  ...  feature197  feature198  feature199  \\\n",
              "0    0.168470  0.190306  0.493050  ...    1.328722    0.054975    0.085196   \n",
              "1    0.158874  0.135157  0.160596  ...    4.225616    0.056032    0.017014   \n",
              "2    0.166959  0.060787  0.036535  ...    2.329093   -0.069179    0.229403   \n",
              "3    0.086502  0.056159  0.099112  ...    2.805037   -0.061436    0.136068   \n",
              "4    0.115781  0.181840  0.320858  ...    2.090031   -0.049202    0.142272   \n",
              "..        ...       ...       ...  ...         ...         ...         ...   \n",
              "686  0.098870  0.142465  0.336428  ...    1.188729    0.074474   -0.020940   \n",
              "687  0.203827  0.126287  0.303834  ...    2.197507    0.141110   -0.014531   \n",
              "688  0.221469  0.158468  0.228223  ...    1.920348    0.080272    0.019367   \n",
              "689  0.170748  0.156740  0.152883  ...    2.955446    0.061974    0.084363   \n",
              "690  0.126933  0.188182  0.372110  ...    3.188215    0.250848    0.015327   \n",
              "\n",
              "     feature200  feature201  feature202  feature203  feature204  dastgah  \\\n",
              "0     -0.053432   -0.026561   -0.003673    0.020988    0.032384      0.0   \n",
              "1      0.007071    0.054440   -0.003258   -0.005404    0.063593      0.0   \n",
              "2     -0.027715    0.079133   -0.020136    0.046618    0.055431      0.0   \n",
              "3      0.017270   -0.035929    0.019739    0.048020    0.060717      0.0   \n",
              "4     -0.140365   -0.012520    0.032504   -0.014086    0.046544      0.0   \n",
              "..          ...         ...         ...         ...         ...      ...   \n",
              "686   -0.061906   -0.121023   -0.020573   -0.015545    0.054683      6.0   \n",
              "687   -0.058945   -0.230351    0.004479    0.033035    0.051727      6.0   \n",
              "688   -0.010469   -0.227786   -0.001225   -0.007922    0.068655      6.0   \n",
              "689   -0.006689    0.165028   -0.019299    0.043765    0.048133      6.0   \n",
              "690   -0.153833   -0.201315   -0.027973   -0.002239    0.064627      6.0   \n",
              "\n",
              "     instrument  \n",
              "0           0.0  \n",
              "1           0.0  \n",
              "2           0.0  \n",
              "3           0.0  \n",
              "4           0.0  \n",
              "..          ...  \n",
              "686         5.0  \n",
              "687         5.0  \n",
              "688         5.0  \n",
              "689         5.0  \n",
              "690         5.0  \n",
              "\n",
              "[691 rows x 207 columns]"
            ],
            "text/html": [
              "\n",
              "  <div id=\"df-e2ca64bc-dadd-453b-bd12-d74966dfbe4e\">\n",
              "    <div class=\"colab-df-container\">\n",
              "      <div>\n",
              "<style scoped>\n",
              "    .dataframe tbody tr th:only-of-type {\n",
              "        vertical-align: middle;\n",
              "    }\n",
              "\n",
              "    .dataframe tbody tr th {\n",
              "        vertical-align: top;\n",
              "    }\n",
              "\n",
              "    .dataframe thead th {\n",
              "        text-align: right;\n",
              "    }\n",
              "</style>\n",
              "<table border=\"1\" class=\"dataframe\">\n",
              "  <thead>\n",
              "    <tr style=\"text-align: right;\">\n",
              "      <th></th>\n",
              "      <th>feature0</th>\n",
              "      <th>feature1</th>\n",
              "      <th>feature2</th>\n",
              "      <th>feature3</th>\n",
              "      <th>feature4</th>\n",
              "      <th>feature5</th>\n",
              "      <th>feature6</th>\n",
              "      <th>feature7</th>\n",
              "      <th>feature8</th>\n",
              "      <th>feature9</th>\n",
              "      <th>...</th>\n",
              "      <th>feature197</th>\n",
              "      <th>feature198</th>\n",
              "      <th>feature199</th>\n",
              "      <th>feature200</th>\n",
              "      <th>feature201</th>\n",
              "      <th>feature202</th>\n",
              "      <th>feature203</th>\n",
              "      <th>feature204</th>\n",
              "      <th>dastgah</th>\n",
              "      <th>instrument</th>\n",
              "    </tr>\n",
              "  </thead>\n",
              "  <tbody>\n",
              "    <tr>\n",
              "      <th>0</th>\n",
              "      <td>0.371348</td>\n",
              "      <td>0.221127</td>\n",
              "      <td>0.205891</td>\n",
              "      <td>0.109653</td>\n",
              "      <td>0.083445</td>\n",
              "      <td>0.133292</td>\n",
              "      <td>0.159897</td>\n",
              "      <td>0.168470</td>\n",
              "      <td>0.190306</td>\n",
              "      <td>0.493050</td>\n",
              "      <td>...</td>\n",
              "      <td>1.328722</td>\n",
              "      <td>0.054975</td>\n",
              "      <td>0.085196</td>\n",
              "      <td>-0.053432</td>\n",
              "      <td>-0.026561</td>\n",
              "      <td>-0.003673</td>\n",
              "      <td>0.020988</td>\n",
              "      <td>0.032384</td>\n",
              "      <td>0.0</td>\n",
              "      <td>0.0</td>\n",
              "    </tr>\n",
              "    <tr>\n",
              "      <th>1</th>\n",
              "      <td>0.541083</td>\n",
              "      <td>0.436222</td>\n",
              "      <td>0.299089</td>\n",
              "      <td>0.255462</td>\n",
              "      <td>0.312083</td>\n",
              "      <td>0.162965</td>\n",
              "      <td>0.180992</td>\n",
              "      <td>0.158874</td>\n",
              "      <td>0.135157</td>\n",
              "      <td>0.160596</td>\n",
              "      <td>...</td>\n",
              "      <td>4.225616</td>\n",
              "      <td>0.056032</td>\n",
              "      <td>0.017014</td>\n",
              "      <td>0.007071</td>\n",
              "      <td>0.054440</td>\n",
              "      <td>-0.003258</td>\n",
              "      <td>-0.005404</td>\n",
              "      <td>0.063593</td>\n",
              "      <td>0.0</td>\n",
              "      <td>0.0</td>\n",
              "    </tr>\n",
              "    <tr>\n",
              "      <th>2</th>\n",
              "      <td>0.384192</td>\n",
              "      <td>0.274454</td>\n",
              "      <td>0.273839</td>\n",
              "      <td>0.333110</td>\n",
              "      <td>0.208912</td>\n",
              "      <td>0.362177</td>\n",
              "      <td>0.178951</td>\n",
              "      <td>0.166959</td>\n",
              "      <td>0.060787</td>\n",
              "      <td>0.036535</td>\n",
              "      <td>...</td>\n",
              "      <td>2.329093</td>\n",
              "      <td>-0.069179</td>\n",
              "      <td>0.229403</td>\n",
              "      <td>-0.027715</td>\n",
              "      <td>0.079133</td>\n",
              "      <td>-0.020136</td>\n",
              "      <td>0.046618</td>\n",
              "      <td>0.055431</td>\n",
              "      <td>0.0</td>\n",
              "      <td>0.0</td>\n",
              "    </tr>\n",
              "    <tr>\n",
              "      <th>3</th>\n",
              "      <td>0.303602</td>\n",
              "      <td>0.349614</td>\n",
              "      <td>0.396037</td>\n",
              "      <td>0.528857</td>\n",
              "      <td>0.202162</td>\n",
              "      <td>0.095978</td>\n",
              "      <td>0.071150</td>\n",
              "      <td>0.086502</td>\n",
              "      <td>0.056159</td>\n",
              "      <td>0.099112</td>\n",
              "      <td>...</td>\n",
              "      <td>2.805037</td>\n",
              "      <td>-0.061436</td>\n",
              "      <td>0.136068</td>\n",
              "      <td>0.017270</td>\n",
              "      <td>-0.035929</td>\n",
              "      <td>0.019739</td>\n",
              "      <td>0.048020</td>\n",
              "      <td>0.060717</td>\n",
              "      <td>0.0</td>\n",
              "      <td>0.0</td>\n",
              "    </tr>\n",
              "    <tr>\n",
              "      <th>4</th>\n",
              "      <td>0.441167</td>\n",
              "      <td>0.436519</td>\n",
              "      <td>0.152523</td>\n",
              "      <td>0.045271</td>\n",
              "      <td>0.054622</td>\n",
              "      <td>0.053557</td>\n",
              "      <td>0.063186</td>\n",
              "      <td>0.115781</td>\n",
              "      <td>0.181840</td>\n",
              "      <td>0.320858</td>\n",
              "      <td>...</td>\n",
              "      <td>2.090031</td>\n",
              "      <td>-0.049202</td>\n",
              "      <td>0.142272</td>\n",
              "      <td>-0.140365</td>\n",
              "      <td>-0.012520</td>\n",
              "      <td>0.032504</td>\n",
              "      <td>-0.014086</td>\n",
              "      <td>0.046544</td>\n",
              "      <td>0.0</td>\n",
              "      <td>0.0</td>\n",
              "    </tr>\n",
              "    <tr>\n",
              "      <th>...</th>\n",
              "      <td>...</td>\n",
              "      <td>...</td>\n",
              "      <td>...</td>\n",
              "      <td>...</td>\n",
              "      <td>...</td>\n",
              "      <td>...</td>\n",
              "      <td>...</td>\n",
              "      <td>...</td>\n",
              "      <td>...</td>\n",
              "      <td>...</td>\n",
              "      <td>...</td>\n",
              "      <td>...</td>\n",
              "      <td>...</td>\n",
              "      <td>...</td>\n",
              "      <td>...</td>\n",
              "      <td>...</td>\n",
              "      <td>...</td>\n",
              "      <td>...</td>\n",
              "      <td>...</td>\n",
              "      <td>...</td>\n",
              "      <td>...</td>\n",
              "    </tr>\n",
              "    <tr>\n",
              "      <th>686</th>\n",
              "      <td>0.379531</td>\n",
              "      <td>0.269446</td>\n",
              "      <td>0.473439</td>\n",
              "      <td>0.361178</td>\n",
              "      <td>0.294814</td>\n",
              "      <td>0.254590</td>\n",
              "      <td>0.283632</td>\n",
              "      <td>0.098870</td>\n",
              "      <td>0.142465</td>\n",
              "      <td>0.336428</td>\n",
              "      <td>...</td>\n",
              "      <td>1.188729</td>\n",
              "      <td>0.074474</td>\n",
              "      <td>-0.020940</td>\n",
              "      <td>-0.061906</td>\n",
              "      <td>-0.121023</td>\n",
              "      <td>-0.020573</td>\n",
              "      <td>-0.015545</td>\n",
              "      <td>0.054683</td>\n",
              "      <td>6.0</td>\n",
              "      <td>5.0</td>\n",
              "    </tr>\n",
              "    <tr>\n",
              "      <th>687</th>\n",
              "      <td>0.062384</td>\n",
              "      <td>0.272099</td>\n",
              "      <td>0.480047</td>\n",
              "      <td>0.428873</td>\n",
              "      <td>0.365869</td>\n",
              "      <td>0.165394</td>\n",
              "      <td>0.351914</td>\n",
              "      <td>0.203827</td>\n",
              "      <td>0.126287</td>\n",
              "      <td>0.303834</td>\n",
              "      <td>...</td>\n",
              "      <td>2.197507</td>\n",
              "      <td>0.141110</td>\n",
              "      <td>-0.014531</td>\n",
              "      <td>-0.058945</td>\n",
              "      <td>-0.230351</td>\n",
              "      <td>0.004479</td>\n",
              "      <td>0.033035</td>\n",
              "      <td>0.051727</td>\n",
              "      <td>6.0</td>\n",
              "      <td>5.0</td>\n",
              "    </tr>\n",
              "    <tr>\n",
              "      <th>688</th>\n",
              "      <td>0.112918</td>\n",
              "      <td>0.314155</td>\n",
              "      <td>0.565400</td>\n",
              "      <td>0.350887</td>\n",
              "      <td>0.223955</td>\n",
              "      <td>0.211370</td>\n",
              "      <td>0.319308</td>\n",
              "      <td>0.221469</td>\n",
              "      <td>0.158468</td>\n",
              "      <td>0.228223</td>\n",
              "      <td>...</td>\n",
              "      <td>1.920348</td>\n",
              "      <td>0.080272</td>\n",
              "      <td>0.019367</td>\n",
              "      <td>-0.010469</td>\n",
              "      <td>-0.227786</td>\n",
              "      <td>-0.001225</td>\n",
              "      <td>-0.007922</td>\n",
              "      <td>0.068655</td>\n",
              "      <td>6.0</td>\n",
              "      <td>5.0</td>\n",
              "    </tr>\n",
              "    <tr>\n",
              "      <th>689</th>\n",
              "      <td>0.629596</td>\n",
              "      <td>0.487371</td>\n",
              "      <td>0.381202</td>\n",
              "      <td>0.234159</td>\n",
              "      <td>0.186800</td>\n",
              "      <td>0.118447</td>\n",
              "      <td>0.121110</td>\n",
              "      <td>0.170748</td>\n",
              "      <td>0.156740</td>\n",
              "      <td>0.152883</td>\n",
              "      <td>...</td>\n",
              "      <td>2.955446</td>\n",
              "      <td>0.061974</td>\n",
              "      <td>0.084363</td>\n",
              "      <td>-0.006689</td>\n",
              "      <td>0.165028</td>\n",
              "      <td>-0.019299</td>\n",
              "      <td>0.043765</td>\n",
              "      <td>0.048133</td>\n",
              "      <td>6.0</td>\n",
              "      <td>5.0</td>\n",
              "    </tr>\n",
              "    <tr>\n",
              "      <th>690</th>\n",
              "      <td>0.084301</td>\n",
              "      <td>0.305056</td>\n",
              "      <td>0.592697</td>\n",
              "      <td>0.294746</td>\n",
              "      <td>0.330974</td>\n",
              "      <td>0.281483</td>\n",
              "      <td>0.347369</td>\n",
              "      <td>0.126933</td>\n",
              "      <td>0.188182</td>\n",
              "      <td>0.372110</td>\n",
              "      <td>...</td>\n",
              "      <td>3.188215</td>\n",
              "      <td>0.250848</td>\n",
              "      <td>0.015327</td>\n",
              "      <td>-0.153833</td>\n",
              "      <td>-0.201315</td>\n",
              "      <td>-0.027973</td>\n",
              "      <td>-0.002239</td>\n",
              "      <td>0.064627</td>\n",
              "      <td>6.0</td>\n",
              "      <td>5.0</td>\n",
              "    </tr>\n",
              "  </tbody>\n",
              "</table>\n",
              "<p>691 rows × 207 columns</p>\n",
              "</div>\n",
              "      <button class=\"colab-df-convert\" onclick=\"convertToInteractive('df-e2ca64bc-dadd-453b-bd12-d74966dfbe4e')\"\n",
              "              title=\"Convert this dataframe to an interactive table.\"\n",
              "              style=\"display:none;\">\n",
              "        \n",
              "  <svg xmlns=\"http://www.w3.org/2000/svg\" height=\"24px\"viewBox=\"0 0 24 24\"\n",
              "       width=\"24px\">\n",
              "    <path d=\"M0 0h24v24H0V0z\" fill=\"none\"/>\n",
              "    <path d=\"M18.56 5.44l.94 2.06.94-2.06 2.06-.94-2.06-.94-.94-2.06-.94 2.06-2.06.94zm-11 1L8.5 8.5l.94-2.06 2.06-.94-2.06-.94L8.5 2.5l-.94 2.06-2.06.94zm10 10l.94 2.06.94-2.06 2.06-.94-2.06-.94-.94-2.06-.94 2.06-2.06.94z\"/><path d=\"M17.41 7.96l-1.37-1.37c-.4-.4-.92-.59-1.43-.59-.52 0-1.04.2-1.43.59L10.3 9.45l-7.72 7.72c-.78.78-.78 2.05 0 2.83L4 21.41c.39.39.9.59 1.41.59.51 0 1.02-.2 1.41-.59l7.78-7.78 2.81-2.81c.8-.78.8-2.07 0-2.86zM5.41 20L4 18.59l7.72-7.72 1.47 1.35L5.41 20z\"/>\n",
              "  </svg>\n",
              "      </button>\n",
              "      \n",
              "  <style>\n",
              "    .colab-df-container {\n",
              "      display:flex;\n",
              "      flex-wrap:wrap;\n",
              "      gap: 12px;\n",
              "    }\n",
              "\n",
              "    .colab-df-convert {\n",
              "      background-color: #E8F0FE;\n",
              "      border: none;\n",
              "      border-radius: 50%;\n",
              "      cursor: pointer;\n",
              "      display: none;\n",
              "      fill: #1967D2;\n",
              "      height: 32px;\n",
              "      padding: 0 0 0 0;\n",
              "      width: 32px;\n",
              "    }\n",
              "\n",
              "    .colab-df-convert:hover {\n",
              "      background-color: #E2EBFA;\n",
              "      box-shadow: 0px 1px 2px rgba(60, 64, 67, 0.3), 0px 1px 3px 1px rgba(60, 64, 67, 0.15);\n",
              "      fill: #174EA6;\n",
              "    }\n",
              "\n",
              "    [theme=dark] .colab-df-convert {\n",
              "      background-color: #3B4455;\n",
              "      fill: #D2E3FC;\n",
              "    }\n",
              "\n",
              "    [theme=dark] .colab-df-convert:hover {\n",
              "      background-color: #434B5C;\n",
              "      box-shadow: 0px 1px 3px 1px rgba(0, 0, 0, 0.15);\n",
              "      filter: drop-shadow(0px 1px 2px rgba(0, 0, 0, 0.3));\n",
              "      fill: #FFFFFF;\n",
              "    }\n",
              "  </style>\n",
              "\n",
              "      <script>\n",
              "        const buttonEl =\n",
              "          document.querySelector('#df-e2ca64bc-dadd-453b-bd12-d74966dfbe4e button.colab-df-convert');\n",
              "        buttonEl.style.display =\n",
              "          google.colab.kernel.accessAllowed ? 'block' : 'none';\n",
              "\n",
              "        async function convertToInteractive(key) {\n",
              "          const element = document.querySelector('#df-e2ca64bc-dadd-453b-bd12-d74966dfbe4e');\n",
              "          const dataTable =\n",
              "            await google.colab.kernel.invokeFunction('convertToInteractive',\n",
              "                                                     [key], {});\n",
              "          if (!dataTable) return;\n",
              "\n",
              "          const docLinkHtml = 'Like what you see? Visit the ' +\n",
              "            '<a target=\"_blank\" href=https://colab.research.google.com/notebooks/data_table.ipynb>data table notebook</a>'\n",
              "            + ' to learn more about interactive tables.';\n",
              "          element.innerHTML = '';\n",
              "          dataTable['output_type'] = 'display_data';\n",
              "          await google.colab.output.renderOutput(dataTable, element);\n",
              "          const docLink = document.createElement('div');\n",
              "          docLink.innerHTML = docLinkHtml;\n",
              "          element.appendChild(docLink);\n",
              "        }\n",
              "      </script>\n",
              "    </div>\n",
              "  </div>\n",
              "  "
            ]
          },
          "metadata": {},
          "execution_count": 4
        }
      ]
    },
    {
      "cell_type": "code",
      "source": [
        "from KNN import *"
      ],
      "metadata": {
        "id": "xoTHWS6tQG-V"
      },
      "execution_count": 5,
      "outputs": []
    },
    {
      "cell_type": "code",
      "source": [
        "df = df.sample(frac=1).reset_index(drop=True)"
      ],
      "metadata": {
        "id": "-kSifcPBIEp-"
      },
      "execution_count": 6,
      "outputs": []
    },
    {
      "cell_type": "code",
      "source": [
        "train=df.head(df.shape[0]*2//3)"
      ],
      "metadata": {
        "id": "bypb3jfWITDH"
      },
      "execution_count": 7,
      "outputs": []
    },
    {
      "cell_type": "code",
      "source": [
        "test=df.tail(df.shape[0]//3)"
      ],
      "metadata": {
        "id": "AGs-_wLKJj8r"
      },
      "execution_count": 8,
      "outputs": []
    },
    {
      "cell_type": "code",
      "source": [
        "# X_train,X_test,y_train,y_test = train_test_split(X,label1, test_size=1/3, random_state=0, stratify=label1)"
      ],
      "metadata": {
        "id": "vDYeefu3G6LR"
      },
      "execution_count": 9,
      "outputs": []
    },
    {
      "cell_type": "code",
      "source": [
        "# X_train,X_test,y_train,y_test = train_test_split(X,label2, test_size=1/3, random_state=0, stratify=label2)"
      ],
      "metadata": {
        "id": "nwvyvyGPHtai"
      },
      "execution_count": 10,
      "outputs": []
    },
    {
      "cell_type": "code",
      "source": [
        "# print(X_train)"
      ],
      "metadata": {
        "id": "p00r35iDHzq5"
      },
      "execution_count": 11,
      "outputs": []
    },
    {
      "cell_type": "code",
      "source": [
        "knn=KNN(train.drop([\"dastgah\",\"instrument\"],axis=1),train[\"dastgah\"],1/3,True,train.drop([\"dastgah\",\"instrument\"],axis=1),test.drop([\"dastgah\",\"instrument\"],axis=1),train[\"dastgah\"],test[\"dastgah\"])\n",
        "knn.plot(50)"
      ],
      "metadata": {
        "colab": {
          "base_uri": "https://localhost:8080/",
          "height": 314
        },
        "id": "6OqEhtIEOvPC",
        "outputId": "f95d94ec-4661-4b1d-f1c5-87dcf0b08af1"
      },
      "execution_count": 12,
      "outputs": [
        {
          "output_type": "stream",
          "name": "stdout",
          "text": [
            "The best accuracy is 37.66 % with k = 1\n"
          ]
        },
        {
          "output_type": "display_data",
          "data": {
            "text/plain": [
              "<Figure size 432x288 with 1 Axes>"
            ],
            "image/png": "[encoded data removed]"
          },
          "metadata": {
            "needs_background": "light"
          }
        }
      ]
    },
    {
      "cell_type": "code",
      "source": [
        "X2=df.drop([\"dastgah\",\"instrument\"],axis=1)\n",
        "print(type(X2))\n",
        "X2[\"lable1\"]=label1"
      ],
      "metadata": {
        "colab": {
          "base_uri": "https://localhost:8080/"
        },
        "id": "qBLeKXy6QXZb",
        "outputId": "914b9f9c-b90f-4242-ab2e-428d585baf50"
      },
      "execution_count": 25,
      "outputs": [
        {
          "output_type": "stream",
          "name": "stdout",
          "text": [
            "<class 'pandas.core.frame.DataFrame'>\n"
          ]
        }
      ]
    },
    {
      "cell_type": "code",
      "source": [
        "knn2=KNN(train.drop([\"instrument\"],axis=1),train[\"dastgah\"],1/3,True,train.drop([\"instrument\"],axis=1),test.drop([\"instrument\"],axis=1),train[\"instrument\"],test[\"instrument\"])\n",
        "knn2.plot(50)"
      ],
      "metadata": {
        "colab": {
          "base_uri": "https://localhost:8080/",
          "height": 314
        },
        "id": "allHvwgeQFzM",
        "outputId": "842a3609-fbd6-4163-ca52-8671a081c6d1"
      },
      "execution_count": 13,
      "outputs": [
        {
          "output_type": "stream",
          "name": "stdout",
          "text": [
            "The best accuracy is 38.96 % with k = 1\n"
          ]
        },
        {
          "output_type": "display_data",
          "data": {
            "text/plain": [
              "<Figure size 432x288 with 1 Axes>"
            ],
            "image/png": "[encoded data removed]"
          },
          "metadata": {
            "needs_background": "light"
          }
        }
      ]
    }
  ]
}