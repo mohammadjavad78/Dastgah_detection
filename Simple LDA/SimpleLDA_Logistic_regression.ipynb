{
 "cells": [
  {
   "cell_type": "code",
   "execution_count": 1,
   "metadata": {},
   "outputs": [],
   "source": [
    "import sys\n",
    "sys.path.insert(0, '../Libraries')\n",
    "sys.path.insert(0, '../Datas/')\n",
    "from LDA import *\n",
    "from LogisticRegression import *\n",
    "from Load_data import *"
   ]
  },
  {
   "cell_type": "code",
   "execution_count": 2,
   "metadata": {},
   "outputs": [],
   "source": [
    "df=loaddata()"
   ]
  },
  {
   "cell_type": "code",
   "execution_count": 3,
   "metadata": {},
   "outputs": [],
   "source": [
    "feature_vectors=df[[f\"feature{i}\" for i in range(205)]]\n",
    "y=df[\"dastgah\"]"
   ]
  },
  {
   "cell_type": "code",
   "execution_count": 4,
   "metadata": {},
   "outputs": [],
   "source": [
    "Lda=lda(feature_vectors,y)\n",
    "feature_vectors,y=Lda.LDAout(5)"
   ]
  },
  {
   "cell_type": "code",
   "execution_count": 5,
   "metadata": {},
   "outputs": [],
   "source": [
    "lr=LR(feature_vectors, y,0.3)"
   ]
  },
  {
   "cell_type": "code",
   "execution_count": 6,
   "metadata": {},
   "outputs": [
    {
     "name": "stdout",
     "output_type": "stream",
     "text": [
      "              precision    recall  f1-score   support\n",
      "\n",
      "         0.0       0.44      0.26      0.33        27\n",
      "         1.0       0.69      0.79      0.73        28\n",
      "         2.0       0.61      0.78      0.68        32\n",
      "         3.0       0.67      0.65      0.66        31\n",
      "         4.0       0.54      0.52      0.53        27\n",
      "         5.0       0.64      0.68      0.66        31\n",
      "         6.0       0.87      0.81      0.84        32\n",
      "\n",
      "    accuracy                           0.65       208\n",
      "   macro avg       0.63      0.64      0.63       208\n",
      "weighted avg       0.64      0.65      0.64       208\n",
      "\n"
     ]
    }
   ],
   "source": [
    "lr.accurate()"
   ]
  },
  {
   "cell_type": "code",
   "execution_count": null,
   "metadata": {},
   "outputs": [],
   "source": []
  }
 ],
 "metadata": {
  "kernelspec": {
   "display_name": "Python 3",
   "language": "python",
   "name": "python3"
  },
  "language_info": {
   "codemirror_mode": {
    "name": "ipython",
    "version": 3
   },
   "file_extension": ".py",
   "mimetype": "text/x-python",
   "name": "python",
   "nbconvert_exporter": "python",
   "pygments_lexer": "ipython3",
   "version": "3.8.8"
  },
  "orig_nbformat": 4,
  "vscode": {
   "interpreter": {
    "hash": "e1e50afc35c5bf48b6480db009e29dffe9b3dc8b7d11ef5d69051a76ab35e225"
   }
  }
 },
 "nbformat": 4,
 "nbformat_minor": 2
}
