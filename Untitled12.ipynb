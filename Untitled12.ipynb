{
  "nbformat": 4,
  "nbformat_minor": 0,
  "metadata": {
    "colab": {
      "provenance": []
    },
    "kernelspec": {
      "name": "python3",
      "display_name": "Python 3"
    },
    "language_info": {
      "name": "python"
    }
  },
  "cells": [
    {
      "cell_type": "code",
      "execution_count": null,
      "metadata": {
        "id": "5juJqIFthlXL"
      },
      "outputs": [],
      "source": [
        "import pickle\n",
        "import numpy as np\n",
        "import pandas as pd"
      ]
    },
    {
      "cell_type": "code",
      "source": [
        "with open('./drive/MyDrive/X.pickle', 'rb') as f: #loads the file from hard disk\n",
        "    X = pickle.load(f)\n",
        "    \n",
        "with open('./drive/MyDrive/label1.pickle', 'rb') as f: #loads the file from hard disk\n",
        "    label1 = pickle.load(f)\n",
        "    \n",
        "with open('./drive/MyDrive/label2.pickle', 'rb') as f: #loads the file from hard disk\n",
        "    label2 = pickle.load(f)"
      ],
      "metadata": {
        "id": "ZPWUGa89hyfy"
      },
      "execution_count": null,
      "outputs": []
    },
    {
      "cell_type": "code",
      "source": [
        "xs={f\"feature{i}\":X.T[i] for i in range(X.shape[1])}\n",
        "xs[\"dastgah\"]=label2\n",
        "xs[\"instrument\"]=label1\n",
        "df= pd.DataFrame(xs,dtype=float)\n",
        "df = df.sample(frac=1).reset_index(drop=True)"
      ],
      "metadata": {
        "id": "mISpF5Ydh7uB"
      },
      "execution_count": null,
      "outputs": []
    },
    {
      "cell_type": "code",
      "source": [
        "df.values[0][0]"
      ],
      "metadata": {
        "colab": {
          "base_uri": "https://localhost:8080/"
        },
        "id": "eLJxRv2RuXoW",
        "outputId": "be980248-c295-48f9-a925-f3cb3a3740a3"
      },
      "execution_count": null,
      "outputs": [
        {
          "output_type": "execute_result",
          "data": {
            "text/plain": [
              "0.2469131350517273"
            ]
          },
          "metadata": {},
          "execution_count": 4
        }
      ]
    },
    {
      "cell_type": "code",
      "source": [
        "df.shape"
      ],
      "metadata": {
        "colab": {
          "base_uri": "https://localhost:8080/"
        },
        "id": "7RFNjKr7keEL",
        "outputId": "11364cfa-e3dc-45c7-cc26-77d3e13cf175"
      },
      "execution_count": null,
      "outputs": [
        {
          "output_type": "execute_result",
          "data": {
            "text/plain": [
              "(691, 207)"
            ]
          },
          "metadata": {},
          "execution_count": 5
        }
      ]
    },
    {
      "cell_type": "code",
      "source": [
        "test= df.iloc[:df.shape[0]//3,:].reset_index(drop=True)\n",
        "train= df.iloc[df.shape[0]//3+1:,:].reset_index(drop=True)"
      ],
      "metadata": {
        "id": "jJNMj6vdkS64"
      },
      "execution_count": null,
      "outputs": []
    },
    {
      "cell_type": "code",
      "source": [
        "feature_vectors=train[[f\"feature{i}\" for i in range(205)]]\n",
        "y=train[\"instrument\"]\n",
        "y_dastgag_train=train[\"dastgah\"]\n",
        "feature_vectors_test=test[[f\"feature{i}\" for i in range(205)]]\n",
        "y_dastgah=test[\"dastgah\"]\n",
        "y_instrument=test[\"instrument\"]"
      ],
      "metadata": {
        "id": "33k9sgQtiDtS"
      },
      "execution_count": null,
      "outputs": []
    },
    {
      "cell_type": "code",
      "source": [
        "from LDA import *\n",
        "from PCA import *"
      ],
      "metadata": {
        "id": "JBKpC64vjSB7"
      },
      "execution_count": null,
      "outputs": []
    },
    {
      "cell_type": "code",
      "source": [
        "Lda=lda(feature_vectors,y)\n",
        "feature_vectors_inst,y=Lda.LDAout(5)"
      ],
      "metadata": {
        "id": "QEwPC4iZjID7"
      },
      "execution_count": null,
      "outputs": []
    },
    {
      "cell_type": "code",
      "source": [
        "df0=train[train[\"instrument\"]==0]\n",
        "feature_vectors0=df0[[f\"feature{i}\" for i in range(205)]]\n",
        "y0=df0[\"dastgah\"]\n",
        "Lda0=lda(feature_vectors0,y0)\n",
        "feature_vectors0,y0=Lda0.LDAout(5)"
      ],
      "metadata": {
        "id": "Tgr2LDnYlhnd"
      },
      "execution_count": null,
      "outputs": []
    },
    {
      "cell_type": "code",
      "source": [
        "df1=train[train[\"instrument\"]==1]\n",
        "feature_vectors1=df1[[f\"feature{i}\" for i in range(205)]]\n",
        "y1=df1[\"dastgah\"]\n",
        "Lda1=lda(feature_vectors1,y1)\n",
        "feature_vectors1,y1=Lda1.LDAout(5)"
      ],
      "metadata": {
        "id": "3tOtTP2KlV6p"
      },
      "execution_count": null,
      "outputs": []
    },
    {
      "cell_type": "code",
      "source": [
        "df2=train[train[\"instrument\"]==2]\n",
        "feature_vectors2=df2[[f\"feature{i}\" for i in range(205)]]\n",
        "y2=df2[\"dastgah\"]\n",
        "Lda2=lda(feature_vectors2,y2)\n",
        "feature_vectors2,y2=Lda2.LDAout(5)"
      ],
      "metadata": {
        "id": "TDo64qlhn8Xe"
      },
      "execution_count": null,
      "outputs": []
    },
    {
      "cell_type": "code",
      "source": [
        "df3=train[train[\"instrument\"]==3]\n",
        "feature_vectors3=df3[[f\"feature{i}\" for i in range(205)]]\n",
        "y3=df3[\"dastgah\"]\n",
        "Lda3=lda(feature_vectors3,y3)\n",
        "feature_vectors3,y3=Lda3.LDAout(5)"
      ],
      "metadata": {
        "id": "r4XSrP-jovB3"
      },
      "execution_count": null,
      "outputs": []
    },
    {
      "cell_type": "code",
      "source": [
        "df4=train[train[\"instrument\"]==4]\n",
        "feature_vectors4=df4[[f\"feature{i}\" for i in range(205)]]\n",
        "y4=df4[\"dastgah\"]\n",
        "Lda4=lda(feature_vectors4,y4)\n",
        "feature_vectors4,y4=Lda4.LDAout(5)"
      ],
      "metadata": {
        "id": "OcrxXubvo4-d"
      },
      "execution_count": null,
      "outputs": []
    },
    {
      "cell_type": "code",
      "source": [
        "df5=train[train[\"instrument\"]==5]\n",
        "feature_vectors5=df5[[f\"feature{i}\" for i in range(205)]]\n",
        "y5=df5[\"dastgah\"]\n",
        "Lda5=lda(feature_vectors5,y5)\n",
        "feature_vectors5,y5=Lda5.LDAout(5)"
      ],
      "metadata": {
        "id": "hnfDvGj8o-h5"
      },
      "execution_count": null,
      "outputs": []
    },
    {
      "cell_type": "code",
      "source": [
        "from KNN import *"
      ],
      "metadata": {
        "id": "9F7FKgqTpFlJ"
      },
      "execution_count": null,
      "outputs": []
    },
    {
      "cell_type": "code",
      "source": [
        "knn1=KNN(feature_vectors,y,1/3)\n",
        "knn1.change(feature_vectors_inst,lda.LDA_changeX(feature_vectors_test),y,y_instrument)\n",
        "knn1.accurate(1)"
      ],
      "metadata": {
        "colab": {
          "base_uri": "https://localhost:8080/",
          "height": 200
        },
        "id": "BZ5UNjdhqVGN",
        "outputId": "40837f57-4121-4d48-a196-5e08e5787163"
      },
      "execution_count": null,
      "outputs": [
        {
          "output_type": "error",
          "ename": "TypeError",
          "evalue": "ignored",
          "traceback": [
            "\u001b[0;31m---------------------------------------------------------------------------\u001b[0m",
            "\u001b[0;31mTypeError\u001b[0m                                 Traceback (most recent call last)",
            "\u001b[0;32m<ipython-input-57-a14a896c1daa>\u001b[0m in \u001b[0;36m<module>\u001b[0;34m\u001b[0m\n\u001b[1;32m      1\u001b[0m \u001b[0mknn1\u001b[0m\u001b[0;34m=\u001b[0m\u001b[0mKNN\u001b[0m\u001b[0;34m(\u001b[0m\u001b[0mfeature_vectors\u001b[0m\u001b[0;34m,\u001b[0m\u001b[0my\u001b[0m\u001b[0;34m,\u001b[0m\u001b[0;36m1\u001b[0m\u001b[0;34m/\u001b[0m\u001b[0;36m3\u001b[0m\u001b[0;34m)\u001b[0m\u001b[0;34m\u001b[0m\u001b[0;34m\u001b[0m\u001b[0m\n\u001b[0;32m----> 2\u001b[0;31m \u001b[0mknn1\u001b[0m\u001b[0;34m.\u001b[0m\u001b[0mchange\u001b[0m\u001b[0;34m(\u001b[0m\u001b[0mfeature_vectors_inst\u001b[0m\u001b[0;34m,\u001b[0m\u001b[0mlda\u001b[0m\u001b[0;34m.\u001b[0m\u001b[0mLDA_changeX\u001b[0m\u001b[0;34m(\u001b[0m\u001b[0mfeature_vectors_test\u001b[0m\u001b[0;34m)\u001b[0m\u001b[0;34m,\u001b[0m\u001b[0my\u001b[0m\u001b[0;34m,\u001b[0m\u001b[0my_instrument\u001b[0m\u001b[0;34m)\u001b[0m\u001b[0;34m\u001b[0m\u001b[0;34m\u001b[0m\u001b[0m\n\u001b[0m\u001b[1;32m      3\u001b[0m \u001b[0mknn1\u001b[0m\u001b[0;34m.\u001b[0m\u001b[0maccurate\u001b[0m\u001b[0;34m(\u001b[0m\u001b[0;36m1\u001b[0m\u001b[0;34m)\u001b[0m\u001b[0;34m\u001b[0m\u001b[0;34m\u001b[0m\u001b[0m\n",
            "\u001b[0;31mTypeError\u001b[0m: LDA_changeX() missing 1 required positional argument: 'X_test'"
          ]
        }
      ]
    },
    {
      "cell_type": "code",
      "source": [
        "from sklearn.neural_network import MLPClassifier\n",
        "clf = MLPClassifier()\n",
        "clf.fit(feature_vectors,y)"
      ],
      "metadata": {
        "colab": {
          "base_uri": "https://localhost:8080/"
        },
        "id": "NxYN5PX7tgPw",
        "outputId": "7ce57ce6-887b-44b1-b575-a057716a6145"
      },
      "execution_count": null,
      "outputs": [
        {
          "output_type": "execute_result",
          "data": {
            "text/plain": [
              "MLPClassifier()"
            ]
          },
          "metadata": {},
          "execution_count": 15
        }
      ]
    },
    {
      "cell_type": "code",
      "source": [
        "predicted_y=clf.predict(feature_vectors_test)"
      ],
      "metadata": {
        "id": "H0vRS5GeAypv"
      },
      "execution_count": null,
      "outputs": []
    },
    {
      "cell_type": "code",
      "source": [
        "expected_y  = y_dastgah"
      ],
      "metadata": {
        "id": "Ai4r6UIWA9MN"
      },
      "execution_count": null,
      "outputs": []
    },
    {
      "cell_type": "code",
      "source": [
        "# for i in range(len(expected_y)):\n",
        "#   print(expected_y[i],predicted_y[i])"
      ],
      "metadata": {
        "id": "1lbFpuZPCVTS"
      },
      "execution_count": null,
      "outputs": []
    },
    {
      "cell_type": "code",
      "source": [
        "print(metrics.classification_report(expected_y, predicted_y))"
      ],
      "metadata": {
        "colab": {
          "base_uri": "https://localhost:8080/"
        },
        "id": "tvufao8iCRuJ",
        "outputId": "4d926d10-9bec-46d9-f53f-beedb8824fdc"
      },
      "execution_count": null,
      "outputs": [
        {
          "output_type": "stream",
          "name": "stdout",
          "text": [
            "              precision    recall  f1-score   support\n",
            "\n",
            "         0.0       0.30      0.19      0.24        31\n",
            "         1.0       0.11      0.13      0.12        30\n",
            "         2.0       0.20      0.26      0.23        38\n",
            "         3.0       0.23      0.19      0.21        37\n",
            "         4.0       0.11      0.15      0.13        27\n",
            "         5.0       0.16      0.31      0.21        29\n",
            "         6.0       0.00      0.00      0.00        38\n",
            "\n",
            "    accuracy                           0.17       230\n",
            "   macro avg       0.16      0.18      0.16       230\n",
            "weighted avg       0.16      0.17      0.16       230\n",
            "\n"
          ]
        },
        {
          "output_type": "stream",
          "name": "stderr",
          "text": [
            "/usr/local/lib/python3.8/dist-packages/sklearn/metrics/_classification.py:1318: UndefinedMetricWarning: Precision and F-score are ill-defined and being set to 0.0 in labels with no predicted samples. Use `zero_division` parameter to control this behavior.\n",
            "  _warn_prf(average, modifier, msg_start, len(result))\n",
            "/usr/local/lib/python3.8/dist-packages/sklearn/metrics/_classification.py:1318: UndefinedMetricWarning: Precision and F-score are ill-defined and being set to 0.0 in labels with no predicted samples. Use `zero_division` parameter to control this behavior.\n",
            "  _warn_prf(average, modifier, msg_start, len(result))\n",
            "/usr/local/lib/python3.8/dist-packages/sklearn/metrics/_classification.py:1318: UndefinedMetricWarning: Precision and F-score are ill-defined and being set to 0.0 in labels with no predicted samples. Use `zero_division` parameter to control this behavior.\n",
            "  _warn_prf(average, modifier, msg_start, len(result))\n"
          ]
        }
      ]
    },
    {
      "cell_type": "code",
      "source": [
        "from LDA import *\n",
        "from sklearn import metrics\n",
        "from KNN import *"
      ],
      "metadata": {
        "id": "QN5qpv27CUOI"
      },
      "execution_count": null,
      "outputs": []
    },
    {
      "cell_type": "code",
      "source": [
        "Lda=lda(feature_vectors,y)"
      ],
      "metadata": {
        "id": "Lzvh7Cct9Mp_"
      },
      "execution_count": null,
      "outputs": []
    },
    {
      "cell_type": "code",
      "source": [
        "Lda=lda(feature_vectors,y)\n",
        "feature_vectors,y=Lda.LDAout(5)"
      ],
      "metadata": {
        "id": "d01hNS5xERAE"
      },
      "execution_count": null,
      "outputs": []
    },
    {
      "cell_type": "code",
      "source": [
        "Lda.LDA_changeX(feature_vectors_test)"
      ],
      "metadata": {
        "colab": {
          "base_uri": "https://localhost:8080/"
        },
        "id": "0UdkNrCf-90F",
        "outputId": "e3fea7c7-1117-43f0-97c4-10570f9dd283"
      },
      "execution_count": null,
      "outputs": [
        {
          "output_type": "execute_result",
          "data": {
            "text/plain": [
              "array([[-0.96406475,  1.42656522,  1.44431967, -2.20172819, -1.48545265],\n",
              "       [-0.0195709 ,  4.76351609, -0.88829843,  1.13606622,  0.1369313 ],\n",
              "       [-0.02359771,  0.78656086,  0.52691263, -0.93190242, -3.70446191],\n",
              "       ...,\n",
              "       [ 2.35762191,  3.72577079,  0.23497924,  0.89062332,  0.53085011],\n",
              "       [ 4.43683262, -1.89258266,  1.00628194,  1.33692476,  0.29062369],\n",
              "       [-1.6460691 , -0.02810039,  0.34961751,  1.31720192, -0.43147508]])"
            ]
          },
          "metadata": {},
          "execution_count": 25
        }
      ]
    },
    {
      "cell_type": "code",
      "source": [
        "Knn=KNN(feature_vectors, y,0.3)\n",
        "Knn.accurate(31)"
      ],
      "metadata": {
        "colab": {
          "base_uri": "https://localhost:8080/",
          "height": 453
        },
        "id": "dhNUPiKyEtZB",
        "outputId": "bfeb3471-ddeb-42f1-8ab8-f85d574cc087"
      },
      "execution_count": null,
      "outputs": [
        {
          "output_type": "stream",
          "name": "stdout",
          "text": [
            "accuracy is 90.58 % with k = 31\n"
          ]
        },
        {
          "output_type": "display_data",
          "data": {
            "text/plain": [
              "<Figure size 432x288 with 2 Axes>"
            ],
            "image/png": "[encoded data removed]"
          },
          "metadata": {
            "needs_background": "light"
          }
        },
        {
          "output_type": "execute_result",
          "data": {
            "text/plain": [
              "array([2., 0., 1., 3., 2., 1., 2., 0., 1., 1., 5., 3., 1., 3., 4., 1., 5.,\n",
              "       0., 1., 2., 3., 0., 3., 5., 1., 4., 4., 2., 0., 3., 1., 0., 4., 1.,\n",
              "       1., 1., 5., 5., 3., 2., 1., 1., 3., 4., 1., 2., 1., 1., 4., 4., 4.,\n",
              "       2., 2., 1., 4., 4., 1., 5., 4., 2., 5., 3., 0., 1., 0., 4., 3., 3.,\n",
              "       3., 1., 2., 1., 0., 3., 0., 0., 0., 1., 2., 1., 2., 3., 1., 3., 4.,\n",
              "       1., 3., 4., 5., 0., 1., 1., 0., 1., 2., 0., 3., 1., 4., 2., 3., 4.,\n",
              "       0., 1., 3., 4., 0., 0., 0., 2., 0., 1., 4., 2., 1., 4., 4., 3., 2.,\n",
              "       4., 0., 2., 2., 0., 5., 3., 3., 3., 0., 3., 5., 3., 0., 5., 3., 1.,\n",
              "       5., 3.])"
            ]
          },
          "metadata": {},
          "execution_count": 60
        }
      ]
    },
    {
      "cell_type": "code",
      "source": [
        "from LogisticRegression import *\n",
        "lr=LR(feature_vectors, y)\n",
        "lr.accurate(Lda.LDA_changeX(feature_vectors_test),expected_y)\n",
        "# ypr=logreg.predict(feature_vectors_test,expected_y)"
      ],
      "metadata": {
        "colab": {
          "base_uri": "https://localhost:8080/"
        },
        "id": "nT6PHE5wCYKc",
        "outputId": "94d8e205-a6f6-420a-cd1b-5cd95717dfe9"
      },
      "execution_count": null,
      "outputs": [
        {
          "output_type": "stream",
          "name": "stdout",
          "text": [
            "              precision    recall  f1-score   support\n",
            "\n",
            "         0.0       0.21      0.29      0.24        35\n",
            "         1.0       0.15      0.24      0.19        33\n",
            "         2.0       0.13      0.12      0.12        33\n",
            "         3.0       0.13      0.21      0.16        29\n",
            "         4.0       0.12      0.09      0.10        34\n",
            "         5.0       0.10      0.09      0.10        32\n",
            "         6.0       0.00      0.00      0.00        34\n",
            "\n",
            "    accuracy                           0.15       230\n",
            "   macro avg       0.12      0.15      0.13       230\n",
            "weighted avg       0.12      0.15      0.13       230\n",
            "\n"
          ]
        },
        {
          "output_type": "stream",
          "name": "stderr",
          "text": [
            "/usr/local/lib/python3.8/dist-packages/sklearn/metrics/_classification.py:1318: UndefinedMetricWarning: Precision and F-score are ill-defined and being set to 0.0 in labels with no predicted samples. Use `zero_division` parameter to control this behavior.\n",
            "  _warn_prf(average, modifier, msg_start, len(result))\n",
            "/usr/local/lib/python3.8/dist-packages/sklearn/metrics/_classification.py:1318: UndefinedMetricWarning: Precision and F-score are ill-defined and being set to 0.0 in labels with no predicted samples. Use `zero_division` parameter to control this behavior.\n",
            "  _warn_prf(average, modifier, msg_start, len(result))\n",
            "/usr/local/lib/python3.8/dist-packages/sklearn/metrics/_classification.py:1318: UndefinedMetricWarning: Precision and F-score are ill-defined and being set to 0.0 in labels with no predicted samples. Use `zero_division` parameter to control this behavior.\n",
            "  _warn_prf(average, modifier, msg_start, len(result))\n"
          ]
        }
      ]
    },
    {
      "cell_type": "code",
      "source": [
        "from xgboost import XGBClassifier"
      ],
      "metadata": {
        "id": "xgcNFYjAFKun"
      },
      "execution_count": null,
      "outputs": []
    },
    {
      "cell_type": "code",
      "source": [
        "xg = XGBClassifier()\n",
        "xg.fit(feature_vectors, y)"
      ],
      "metadata": {
        "colab": {
          "base_uri": "https://localhost:8080/"
        },
        "id": "AVGeepKPFDPe",
        "outputId": "0bea4290-02f9-4a0d-cae7-9bb59f4ab915"
      },
      "execution_count": null,
      "outputs": [
        {
          "output_type": "execute_result",
          "data": {
            "text/plain": [
              "XGBClassifier(objective='multi:softprob')"
            ]
          },
          "metadata": {},
          "execution_count": 27
        }
      ]
    },
    {
      "cell_type": "code",
      "source": [
        "print(feature_vectors_test.values[0])"
      ],
      "metadata": {
        "colab": {
          "base_uri": "https://localhost:8080/"
        },
        "id": "ixtPl9qpFrnF",
        "outputId": "3e9ee87b-4cd7-40f1-ae0b-851a1a6f69bf"
      },
      "execution_count": null,
      "outputs": [
        {
          "output_type": "stream",
          "name": "stdout",
          "text": [
            "[ 2.46913135e-01  2.70174772e-01  1.99271813e-01  2.98381329e-01\n",
            "  2.05101997e-01  1.92043379e-01  2.75608152e-01  2.72570878e-01\n",
            "  3.32575172e-01  2.65024185e-01  4.06958729e-01  4.28891063e-01\n",
            "  2.15565115e-01  3.13818544e-01  2.12362722e-01  3.60694319e-01\n",
            "  2.72408843e-01  2.73677111e-01  3.20454985e-01  2.92951524e-01\n",
            "  4.41430271e-01  2.38402009e-01  4.73325938e-01  4.42709178e-01\n",
            "  1.15759638e-01  1.86508526e-01  1.14484536e-01  2.68601305e-01\n",
            "  1.97793922e-01  2.07940410e-01  2.08961911e-01  2.04073046e-01\n",
            "  2.88342254e-01  1.38930772e-01  3.84942858e-01  3.24652210e-01\n",
            "  8.46714713e-03  1.13019571e-02  3.21003981e-02  2.58836806e-01\n",
            "  1.44771802e+00  1.58402538e+01  5.83858566e+01  7.19861603e+01\n",
            "  2.20503483e+01  1.67652626e+01  1.85291729e+01  2.86333141e+01\n",
            "  5.00984612e+01  4.00696106e+01  6.39816780e+01  4.92534218e+01\n",
            "  2.37194309e+01  2.56105843e+01  2.26944275e+01  3.15054226e+01\n",
            "  8.71320057e+00  4.72574329e+00  5.80464840e+00  3.14679599e+00\n",
            "  1.91021335e+00  6.36552811e+00  4.28870010e+00  1.52355707e+00\n",
            "  6.91900730e+00  1.04085169e+01  8.95150757e+00  5.42612362e+00\n",
            "  2.04075885e+00  5.99883032e+00  1.51978683e+01  5.06012344e+00\n",
            "  1.82830882e+00  6.20696878e+00  5.13196898e+00  1.39960361e+00\n",
            "  1.76936829e+00  4.10561514e+00  4.08352280e+00  5.06550598e+00\n",
            "  1.05884290e+00  3.08873713e-01  1.11249399e+00  9.71122742e-01\n",
            "  1.53207242e-01  4.53255832e-01  1.33111703e+00  8.20327640e-01\n",
            "  1.12081158e+00  7.57488370e-01  7.35357225e-01  7.84482121e-01\n",
            "  9.05850470e-01  2.18011871e-01  2.30509281e-01  8.02011073e-01\n",
            "  2.10159943e-01  1.00663200e-01  2.82009214e-01  2.99044609e-01\n",
            "  1.20261884e+00  8.32804143e-01  1.25140160e-01  4.48885560e-02\n",
            "  1.82057902e-01  1.04385853e-01  3.86643112e-02  2.14628633e-02\n",
            "  5.69186360e-02  9.55114588e-02  4.23789807e-02  3.93377505e-02\n",
            "  1.76950879e-02  4.63746823e-02  2.74887830e-02  1.17892167e-02\n",
            "  6.00705901e-03  9.53138527e-03  1.67639065e-03  1.86922599e-03\n",
            "  1.83237321e-03  7.22473837e-04  6.95480150e-04  1.98252103e-03\n",
            "  1.68891996e-03  6.10261457e-04  8.08114244e-04  2.22899325e-04\n",
            "  3.21678410e-04  1.45108628e-04  5.08134726e-05  4.97926740e-05\n",
            "  5.81295171e-05  5.29991885e-05  3.66352833e-05  3.00969496e-05\n",
            "  3.03263769e-05  3.52229035e-05  2.67191317e-05  3.88789013e-05\n",
            "  3.72047762e-05  2.56635449e-05  2.35746957e-05  1.88163976e-05\n",
            "  1.71736210e-05  1.83111297e-05  1.50602564e-05  1.28498887e-05\n",
            "  4.10155417e-06  2.51718273e-08  2.28297647e-08  2.12231495e-08\n",
            "  1.98514876e-08  1.86700984e-08  1.76204100e-08  1.64105440e-08\n",
            "  1.55447992e-08  1.48462211e-08  1.42736392e-08  1.38049563e-08\n",
            "  1.34069449e-08  1.29308155e-08  1.27062805e-08  1.26257644e-08\n",
            " -2.35345779e+02  2.12232986e+02 -3.52131310e+01 -2.08290768e+01\n",
            "  1.00562401e+01 -2.23148766e+01 -1.88776112e+01 -7.14745903e+00\n",
            " -1.52124615e+01 -1.74888382e+01 -1.78366814e+01 -2.04088974e+01\n",
            " -1.44058218e+01 -9.44923592e+00 -1.06466093e+01 -1.06606407e+01\n",
            " -5.92836523e+00 -4.46948481e+00 -8.76475334e+00 -4.40764236e+00\n",
            "  1.49528176e-01  1.16990791e+03  1.23924715e+03  1.77151988e+01\n",
            "  1.31424021e+01  1.82333233e+01  1.98353662e+01  2.16900709e+01\n",
            "  3.12394455e+01  3.42361919e+01  3.43052534e-06  2.11521542e+03\n",
            " -1.85162942e-04  2.80494289e+00 -1.10902278e-01 -8.62651761e-02\n",
            "  8.56335094e-02 -2.76486339e-02 -7.99809333e-03 -3.37714111e-02\n",
            "  3.37585697e-02]\n"
          ]
        }
      ]
    },
    {
      "cell_type": "code",
      "source": [
        "print(xg.predict(Lda.LDA_changeX(feature_vectors_test)))"
      ],
      "metadata": {
        "colab": {
          "base_uri": "https://localhost:8080/"
        },
        "id": "sXDrnV6bFdYN",
        "outputId": "b8f7cfbf-dfd6-4989-b020-11ed60c91804"
      },
      "execution_count": null,
      "outputs": [
        {
          "output_type": "stream",
          "name": "stdout",
          "text": [
            "[0. 1. 3. 0. 2. 1. 2. 4. 2. 3. 3. 1. 1. 5. 0. 3. 4. 3. 1. 0. 5. 1. 0. 3.\n",
            " 2. 1. 5. 3. 2. 1. 1. 1. 0. 4. 5. 1. 0. 0. 3. 2. 3. 2. 1. 4. 1. 5. 4. 5.\n",
            " 1. 4. 1. 1. 4. 0. 1. 2. 0. 3. 1. 0. 4. 3. 0. 0. 0. 3. 4. 1. 4. 2. 0. 3.\n",
            " 2. 4. 0. 1. 3. 1. 4. 2. 0. 0. 1. 1. 4. 4. 4. 0. 1. 4. 1. 3. 1. 0. 3. 3.\n",
            " 0. 1. 0. 1. 3. 1. 3. 2. 2. 0. 5. 5. 4. 5. 5. 4. 0. 5. 0. 4. 1. 4. 1. 4.\n",
            " 2. 1. 0. 5. 5. 1. 0. 4. 4. 3. 1. 5. 0. 5. 0. 5. 4. 1. 0. 2. 1. 0. 5. 3.\n",
            " 3. 3. 4. 0. 1. 5. 3. 1. 0. 2. 3. 4. 5. 1. 4. 5. 0. 0. 5. 0. 2. 1. 1. 0.\n",
            " 1. 2. 3. 5. 1. 2. 3. 5. 3. 3. 1. 3. 3. 4. 1. 1. 1. 0. 1. 2. 1. 0. 3. 1.\n",
            " 0. 5. 3. 5. 0. 4. 4. 4. 1. 3. 1. 0. 3. 4. 3. 1. 2. 3. 2. 2. 1. 1. 2. 0.\n",
            " 2. 0. 0. 1. 1. 5. 1. 4. 3. 0. 4. 3. 2. 5.]\n"
          ]
        }
      ]
    },
    {
      "cell_type": "code",
      "source": [
        "print(metrics.classification_report(expected_y,xg.predict(Lda.LDA_changeX(feature_vectors_test))))\n",
        "# xg.predict(X_test)"
      ],
      "metadata": {
        "colab": {
          "base_uri": "https://localhost:8080/"
        },
        "id": "z2h3JNrcFN5V",
        "outputId": "1077ef77-07b7-43e0-edc3-09f3bbd3b1ac"
      },
      "execution_count": null,
      "outputs": [
        {
          "output_type": "stream",
          "name": "stdout",
          "text": [
            "              precision    recall  f1-score   support\n",
            "\n",
            "         0.0       0.20      0.26      0.22        35\n",
            "         1.0       0.16      0.27      0.20        33\n",
            "         2.0       0.12      0.09      0.10        33\n",
            "         3.0       0.05      0.07      0.06        29\n",
            "         4.0       0.09      0.09      0.09        34\n",
            "         5.0       0.15      0.12      0.14        32\n",
            "         6.0       0.00      0.00      0.00        34\n",
            "\n",
            "    accuracy                           0.13       230\n",
            "   macro avg       0.11      0.13      0.11       230\n",
            "weighted avg       0.11      0.13      0.12       230\n",
            "\n"
          ]
        },
        {
          "output_type": "stream",
          "name": "stderr",
          "text": [
            "/usr/local/lib/python3.8/dist-packages/sklearn/metrics/_classification.py:1318: UndefinedMetricWarning: Precision and F-score are ill-defined and being set to 0.0 in labels with no predicted samples. Use `zero_division` parameter to control this behavior.\n",
            "  _warn_prf(average, modifier, msg_start, len(result))\n",
            "/usr/local/lib/python3.8/dist-packages/sklearn/metrics/_classification.py:1318: UndefinedMetricWarning: Precision and F-score are ill-defined and being set to 0.0 in labels with no predicted samples. Use `zero_division` parameter to control this behavior.\n",
            "  _warn_prf(average, modifier, msg_start, len(result))\n",
            "/usr/local/lib/python3.8/dist-packages/sklearn/metrics/_classification.py:1318: UndefinedMetricWarning: Precision and F-score are ill-defined and being set to 0.0 in labels with no predicted samples. Use `zero_division` parameter to control this behavior.\n",
            "  _warn_prf(average, modifier, msg_start, len(result))\n"
          ]
        }
      ]
    },
    {
      "cell_type": "code",
      "source": [
        "from xgboost import XGBClassifier\n",
        "from sklearn.model_selection import cross_val_score\n",
        "cross_val_score(XGBClassifier(),df[[f\"feature{i}\" for i in range(205)]],df[\"dastgah\"])"
      ],
      "metadata": {
        "colab": {
          "base_uri": "https://localhost:8080/"
        },
        "id": "RoqmJgodENb2",
        "outputId": "f09e521d-428c-4341-bfee-5c293b8dfe24"
      },
      "execution_count": null,
      "outputs": [
        {
          "output_type": "execute_result",
          "data": {
            "text/plain": [
              "array([0.38129496, 0.37681159, 0.38405797, 0.32608696, 0.3115942 ])"
            ]
          },
          "metadata": {},
          "execution_count": 91
        }
      ]
    },
    {
      "cell_type": "code",
      "source": [
        "from sklearn.ensemble import AdaBoostClassifier\n",
        "from sklearn.datasets import make_classification"
      ],
      "metadata": {
        "id": "Zyslp0d3GjLz"
      },
      "execution_count": null,
      "outputs": []
    },
    {
      "cell_type": "code",
      "source": [
        "X, y = make_classification(n_samples=1000, n_features=4,\n",
        "n_informative=2, n_redundant=0,\n",
        "random_state=0, shuffle=False)"
      ],
      "metadata": {
        "id": "n-yol2TGHUTq"
      },
      "execution_count": null,
      "outputs": []
    },
    {
      "cell_type": "code",
      "source": [
        "clf = AdaBoostClassifier(n_estimators=100, random_state=0)"
      ],
      "metadata": {
        "id": "cBwmzIguHX92"
      },
      "execution_count": null,
      "outputs": []
    },
    {
      "cell_type": "code",
      "source": [
        "print(len(y))"
      ],
      "metadata": {
        "colab": {
          "base_uri": "https://localhost:8080/"
        },
        "id": "zZY3t7D_IRhk",
        "outputId": "e3ae9cbd-a442-4684-c057-c8632552bcf7"
      },
      "execution_count": null,
      "outputs": [
        {
          "output_type": "stream",
          "name": "stdout",
          "text": [
            "1000\n"
          ]
        }
      ]
    },
    {
      "cell_type": "code",
      "source": [
        "clf.fit(feature_vectors,y)"
      ],
      "metadata": {
        "colab": {
          "base_uri": "https://localhost:8080/"
        },
        "id": "nczlKhv6Hbgh",
        "outputId": "b9db3ceb-cb4d-4948-9c6b-3fed42fe595a"
      },
      "execution_count": null,
      "outputs": [
        {
          "output_type": "execute_result",
          "data": {
            "text/plain": [
              "AdaBoostClassifier(n_estimators=100, random_state=0)"
            ]
          },
          "metadata": {},
          "execution_count": 26
        }
      ]
    },
    {
      "cell_type": "code",
      "source": [
        "print(feature_vectors_test)"
      ],
      "metadata": {
        "colab": {
          "base_uri": "https://localhost:8080/"
        },
        "id": "-ibzDWsP9xCV",
        "outputId": "386a2275-ebe4-4141-839f-0677187b407b"
      },
      "execution_count": null,
      "outputs": [
        {
          "output_type": "stream",
          "name": "stdout",
          "text": [
            "     feature0  feature1  feature2  feature3  feature4  feature5  feature6  \\\n",
            "0    0.533050  0.332333  0.315657  0.205108  0.420474  0.302169  0.190917   \n",
            "1    0.660017  0.334827  0.260571  0.204460  0.261895  0.104911  0.183852   \n",
            "2    0.246950  0.205262  0.328746  0.288239  0.301185  0.254177  0.280952   \n",
            "3    0.253761  0.137628  0.224416  0.067395  0.105930  0.079809  0.075565   \n",
            "4    0.226137  0.135455  0.087066  0.172455  0.130040  0.134754  0.304510   \n",
            "..        ...       ...       ...       ...       ...       ...       ...   \n",
            "225  0.665083  0.550814  0.386515  0.231124  0.265517  0.356279  0.226085   \n",
            "226  0.356024  0.443168  0.723482  0.457357  0.426336  0.241053  0.188150   \n",
            "227  0.293463  0.426291  0.227010  0.279215  0.177295  0.191354  0.182751   \n",
            "228  0.067565  0.086961  0.081646  0.199190  0.118844  0.178371  0.366146   \n",
            "229  0.589953  0.480603  0.479025  0.248316  0.164705  0.169977  0.140291   \n",
            "\n",
            "     feature7  feature8  feature9  ...   feature195  feature196  feature197  \\\n",
            "0    0.256181  0.322429  0.284888  ...  4734.530241   -0.000156    2.459458   \n",
            "1    0.534462  0.269670  0.219517  ...  1965.245342   -0.000131    2.004207   \n",
            "2    0.570653  0.383513  0.336070  ...  3781.882839   -0.000134    2.098396   \n",
            "3    0.235297  0.139615  0.536431  ...  4843.446007   -0.000131    2.073051   \n",
            "4    0.161462  0.171882  0.253851  ...  2412.543585   -0.000191    2.901173   \n",
            "..        ...       ...       ...  ...          ...         ...         ...   \n",
            "225  0.256067  0.357799  0.434028  ...  5011.687435   -0.000345    5.431837   \n",
            "226  0.187291  0.223340  0.482411  ...  5786.607803   -0.000302    4.869613   \n",
            "227  0.275945  0.679191  0.400987  ...  3002.513359   -0.000162    2.487954   \n",
            "228  0.291698  0.455818  0.354889  ...  5111.580002   -0.000136    2.147105   \n",
            "229  0.201146  0.162878  0.209913  ...  3183.977149   -0.000153    2.358781   \n",
            "\n",
            "     feature198  feature199  feature200  feature201  feature202  feature203  \\\n",
            "0      0.155409    0.008312    0.107481    0.216479   -0.027602   -0.024671   \n",
            "1      0.115187    0.171827    0.173543    0.097933    0.021334    0.043031   \n",
            "2      0.032845    0.106100    0.068250    0.045375    0.011151   -0.026862   \n",
            "3      0.213856    0.263080   -0.155273   -0.059952    0.062712    0.058463   \n",
            "4     -0.012383   -0.060490    0.119959   -0.008132   -0.026885    0.007470   \n",
            "..          ...         ...         ...         ...         ...         ...   \n",
            "225   -0.042798    0.083125   -0.119447   -0.041556    0.039266   -0.005192   \n",
            "226    0.363559    0.051676   -0.119914   -0.070994   -0.033589    0.018956   \n",
            "227   -0.084492   -0.088947   -0.079043    0.051277   -0.017958   -0.024389   \n",
            "228   -0.141937   -0.190249    0.009496    0.000729   -0.038622    0.048926   \n",
            "229   -0.011356    0.137761   -0.006345    0.042606    0.019085    0.022281   \n",
            "\n",
            "     feature204  \n",
            "0      0.066305  \n",
            "1      0.032772  \n",
            "2      0.069281  \n",
            "3      0.076547  \n",
            "4      0.043041  \n",
            "..          ...  \n",
            "225    0.071018  \n",
            "226    0.067301  \n",
            "227    0.045977  \n",
            "228    0.052301  \n",
            "229    0.040660  \n",
            "\n",
            "[230 rows x 205 columns]\n"
          ]
        }
      ]
    },
    {
      "cell_type": "code",
      "source": [
        "print(Lda.LDA_changeX(feature_vectors_test))"
      ],
      "metadata": {
        "colab": {
          "base_uri": "https://localhost:8080/",
          "height": 365
        },
        "id": "ZcRPhdFn-CsW",
        "outputId": "60368e62-a10e-4177-c01c-e55cab8c0243"
      },
      "execution_count": null,
      "outputs": [
        {
          "output_type": "stream",
          "name": "stderr",
          "text": [
            "/usr/local/lib/python3.8/dist-packages/sklearn/base.py:443: UserWarning: X has feature names, but LinearDiscriminantAnalysis was fitted without feature names\n",
            "  warnings.warn(\n"
          ]
        },
        {
          "output_type": "error",
          "ename": "ValueError",
          "evalue": "ignored",
          "traceback": [
            "\u001b[0;31m---------------------------------------------------------------------------\u001b[0m",
            "\u001b[0;31mValueError\u001b[0m                                Traceback (most recent call last)",
            "\u001b[0;32m<ipython-input-41-6cd8b4b227f6>\u001b[0m in \u001b[0;36m<module>\u001b[0;34m\u001b[0m\n\u001b[0;32m----> 1\u001b[0;31m \u001b[0mprint\u001b[0m\u001b[0;34m(\u001b[0m\u001b[0mLda\u001b[0m\u001b[0;34m.\u001b[0m\u001b[0mLDA_changeX\u001b[0m\u001b[0;34m(\u001b[0m\u001b[0mfeature_vectors_test\u001b[0m\u001b[0;34m)\u001b[0m\u001b[0;34m)\u001b[0m\u001b[0;34m\u001b[0m\u001b[0;34m\u001b[0m\u001b[0m\n\u001b[0m",
            "\u001b[0;32m/content/LDA.py\u001b[0m in \u001b[0;36mLDA_changeX\u001b[0;34m(self, X_test)\u001b[0m\n\u001b[1;32m     26\u001b[0m \u001b[0;34m\u001b[0m\u001b[0m\n\u001b[1;32m     27\u001b[0m     \u001b[0;32mdef\u001b[0m \u001b[0mLDA_changeX\u001b[0m\u001b[0;34m(\u001b[0m\u001b[0mself\u001b[0m\u001b[0;34m,\u001b[0m\u001b[0mX_test\u001b[0m\u001b[0;34m)\u001b[0m\u001b[0;34m:\u001b[0m\u001b[0;34m\u001b[0m\u001b[0;34m\u001b[0m\u001b[0m\n\u001b[0;32m---> 28\u001b[0;31m         \u001b[0mX_test\u001b[0m \u001b[0;34m=\u001b[0m \u001b[0mself\u001b[0m\u001b[0;34m.\u001b[0m\u001b[0mlda\u001b[0m\u001b[0;34m.\u001b[0m\u001b[0mtransform\u001b[0m\u001b[0;34m(\u001b[0m\u001b[0mX_test\u001b[0m\u001b[0;34m)\u001b[0m\u001b[0;34m\u001b[0m\u001b[0;34m\u001b[0m\u001b[0m\n\u001b[0m\u001b[1;32m     29\u001b[0m         \u001b[0;32mreturn\u001b[0m \u001b[0mX_test\u001b[0m\u001b[0;34m\u001b[0m\u001b[0;34m\u001b[0m\u001b[0m\n",
            "\u001b[0;32m/usr/local/lib/python3.8/dist-packages/sklearn/discriminant_analysis.py\u001b[0m in \u001b[0;36mtransform\u001b[0;34m(self, X)\u001b[0m\n\u001b[1;32m    636\u001b[0m         \u001b[0mcheck_is_fitted\u001b[0m\u001b[0;34m(\u001b[0m\u001b[0mself\u001b[0m\u001b[0;34m)\u001b[0m\u001b[0;34m\u001b[0m\u001b[0;34m\u001b[0m\u001b[0m\n\u001b[1;32m    637\u001b[0m \u001b[0;34m\u001b[0m\u001b[0m\n\u001b[0;32m--> 638\u001b[0;31m         \u001b[0mX\u001b[0m \u001b[0;34m=\u001b[0m \u001b[0mself\u001b[0m\u001b[0;34m.\u001b[0m\u001b[0m_validate_data\u001b[0m\u001b[0;34m(\u001b[0m\u001b[0mX\u001b[0m\u001b[0;34m,\u001b[0m \u001b[0mreset\u001b[0m\u001b[0;34m=\u001b[0m\u001b[0;32mFalse\u001b[0m\u001b[0;34m)\u001b[0m\u001b[0;34m\u001b[0m\u001b[0;34m\u001b[0m\u001b[0m\n\u001b[0m\u001b[1;32m    639\u001b[0m         \u001b[0;32mif\u001b[0m \u001b[0mself\u001b[0m\u001b[0;34m.\u001b[0m\u001b[0msolver\u001b[0m \u001b[0;34m==\u001b[0m \u001b[0;34m\"svd\"\u001b[0m\u001b[0;34m:\u001b[0m\u001b[0;34m\u001b[0m\u001b[0;34m\u001b[0m\u001b[0m\n\u001b[1;32m    640\u001b[0m             \u001b[0mX_new\u001b[0m \u001b[0;34m=\u001b[0m \u001b[0mnp\u001b[0m\u001b[0;34m.\u001b[0m\u001b[0mdot\u001b[0m\u001b[0;34m(\u001b[0m\u001b[0mX\u001b[0m \u001b[0;34m-\u001b[0m \u001b[0mself\u001b[0m\u001b[0;34m.\u001b[0m\u001b[0mxbar_\u001b[0m\u001b[0;34m,\u001b[0m \u001b[0mself\u001b[0m\u001b[0;34m.\u001b[0m\u001b[0mscalings_\u001b[0m\u001b[0;34m)\u001b[0m\u001b[0;34m\u001b[0m\u001b[0;34m\u001b[0m\u001b[0m\n",
            "\u001b[0;32m/usr/local/lib/python3.8/dist-packages/sklearn/base.py\u001b[0m in \u001b[0;36m_validate_data\u001b[0;34m(self, X, y, reset, validate_separately, **check_params)\u001b[0m\n\u001b[1;32m    583\u001b[0m \u001b[0;34m\u001b[0m\u001b[0m\n\u001b[1;32m    584\u001b[0m         \u001b[0;32mif\u001b[0m \u001b[0;32mnot\u001b[0m \u001b[0mno_val_X\u001b[0m \u001b[0;32mand\u001b[0m \u001b[0mcheck_params\u001b[0m\u001b[0;34m.\u001b[0m\u001b[0mget\u001b[0m\u001b[0;34m(\u001b[0m\u001b[0;34m\"ensure_2d\"\u001b[0m\u001b[0;34m,\u001b[0m \u001b[0;32mTrue\u001b[0m\u001b[0;34m)\u001b[0m\u001b[0;34m:\u001b[0m\u001b[0;34m\u001b[0m\u001b[0;34m\u001b[0m\u001b[0m\n\u001b[0;32m--> 585\u001b[0;31m             \u001b[0mself\u001b[0m\u001b[0;34m.\u001b[0m\u001b[0m_check_n_features\u001b[0m\u001b[0;34m(\u001b[0m\u001b[0mX\u001b[0m\u001b[0;34m,\u001b[0m \u001b[0mreset\u001b[0m\u001b[0;34m=\u001b[0m\u001b[0mreset\u001b[0m\u001b[0;34m)\u001b[0m\u001b[0;34m\u001b[0m\u001b[0;34m\u001b[0m\u001b[0m\n\u001b[0m\u001b[1;32m    586\u001b[0m \u001b[0;34m\u001b[0m\u001b[0m\n\u001b[1;32m    587\u001b[0m         \u001b[0;32mreturn\u001b[0m \u001b[0mout\u001b[0m\u001b[0;34m\u001b[0m\u001b[0;34m\u001b[0m\u001b[0m\n",
            "\u001b[0;32m/usr/local/lib/python3.8/dist-packages/sklearn/base.py\u001b[0m in \u001b[0;36m_check_n_features\u001b[0;34m(self, X, reset)\u001b[0m\n\u001b[1;32m    398\u001b[0m \u001b[0;34m\u001b[0m\u001b[0m\n\u001b[1;32m    399\u001b[0m         \u001b[0;32mif\u001b[0m \u001b[0mn_features\u001b[0m \u001b[0;34m!=\u001b[0m \u001b[0mself\u001b[0m\u001b[0;34m.\u001b[0m\u001b[0mn_features_in_\u001b[0m\u001b[0;34m:\u001b[0m\u001b[0;34m\u001b[0m\u001b[0;34m\u001b[0m\u001b[0m\n\u001b[0;32m--> 400\u001b[0;31m             raise ValueError(\n\u001b[0m\u001b[1;32m    401\u001b[0m                 \u001b[0;34mf\"X has {n_features} features, but {self.__class__.__name__} \"\u001b[0m\u001b[0;34m\u001b[0m\u001b[0;34m\u001b[0m\u001b[0m\n\u001b[1;32m    402\u001b[0m                 \u001b[0;34mf\"is expecting {self.n_features_in_} features as input.\"\u001b[0m\u001b[0;34m\u001b[0m\u001b[0;34m\u001b[0m\u001b[0m\n",
            "\u001b[0;31mValueError\u001b[0m: X has 205 features, but LinearDiscriminantAnalysis is expecting 5 features as input."
          ]
        }
      ]
    },
    {
      "cell_type": "code",
      "source": [
        "ypr=clf.predict(Lda.LDA_changeX(feature_vectors_test))"
      ],
      "metadata": {
        "colab": {
          "base_uri": "https://localhost:8080/",
          "height": 365
        },
        "id": "B9SHGB3nHoS9",
        "outputId": "9bdd46e0-8463-4dad-a7dc-a8812997430d"
      },
      "execution_count": null,
      "outputs": [
        {
          "output_type": "stream",
          "name": "stderr",
          "text": [
            "/usr/local/lib/python3.8/dist-packages/sklearn/base.py:443: UserWarning: X has feature names, but LinearDiscriminantAnalysis was fitted without feature names\n",
            "  warnings.warn(\n"
          ]
        },
        {
          "output_type": "error",
          "ename": "ValueError",
          "evalue": "ignored",
          "traceback": [
            "\u001b[0;31m---------------------------------------------------------------------------\u001b[0m",
            "\u001b[0;31mValueError\u001b[0m                                Traceback (most recent call last)",
            "\u001b[0;32m<ipython-input-32-040d8f6204d1>\u001b[0m in \u001b[0;36m<module>\u001b[0;34m\u001b[0m\n\u001b[0;32m----> 1\u001b[0;31m \u001b[0mypr\u001b[0m\u001b[0;34m=\u001b[0m\u001b[0mclf\u001b[0m\u001b[0;34m.\u001b[0m\u001b[0mpredict\u001b[0m\u001b[0;34m(\u001b[0m\u001b[0mLda\u001b[0m\u001b[0;34m.\u001b[0m\u001b[0mLDA_changeX\u001b[0m\u001b[0;34m(\u001b[0m\u001b[0mfeature_vectors_test\u001b[0m\u001b[0;34m)\u001b[0m\u001b[0;34m)\u001b[0m\u001b[0;34m\u001b[0m\u001b[0;34m\u001b[0m\u001b[0m\n\u001b[0m",
            "\u001b[0;32m/content/LDA.py\u001b[0m in \u001b[0;36mLDA_changeX\u001b[0;34m(self, X_test)\u001b[0m\n\u001b[1;32m     26\u001b[0m \u001b[0;34m\u001b[0m\u001b[0m\n\u001b[1;32m     27\u001b[0m     \u001b[0;32mdef\u001b[0m \u001b[0mLDA_changeX\u001b[0m\u001b[0;34m(\u001b[0m\u001b[0mself\u001b[0m\u001b[0;34m,\u001b[0m\u001b[0mX_test\u001b[0m\u001b[0;34m)\u001b[0m\u001b[0;34m:\u001b[0m\u001b[0;34m\u001b[0m\u001b[0;34m\u001b[0m\u001b[0m\n\u001b[0;32m---> 28\u001b[0;31m         \u001b[0mX_test\u001b[0m \u001b[0;34m=\u001b[0m \u001b[0mself\u001b[0m\u001b[0;34m.\u001b[0m\u001b[0mlda\u001b[0m\u001b[0;34m.\u001b[0m\u001b[0mtransform\u001b[0m\u001b[0;34m(\u001b[0m\u001b[0mX_test\u001b[0m\u001b[0;34m)\u001b[0m\u001b[0;34m\u001b[0m\u001b[0;34m\u001b[0m\u001b[0m\n\u001b[0m\u001b[1;32m     29\u001b[0m         \u001b[0;32mreturn\u001b[0m \u001b[0mX_test\u001b[0m\u001b[0;34m\u001b[0m\u001b[0;34m\u001b[0m\u001b[0m\n",
            "\u001b[0;32m/usr/local/lib/python3.8/dist-packages/sklearn/discriminant_analysis.py\u001b[0m in \u001b[0;36mtransform\u001b[0;34m(self, X)\u001b[0m\n\u001b[1;32m    636\u001b[0m         \u001b[0mcheck_is_fitted\u001b[0m\u001b[0;34m(\u001b[0m\u001b[0mself\u001b[0m\u001b[0;34m)\u001b[0m\u001b[0;34m\u001b[0m\u001b[0;34m\u001b[0m\u001b[0m\n\u001b[1;32m    637\u001b[0m \u001b[0;34m\u001b[0m\u001b[0m\n\u001b[0;32m--> 638\u001b[0;31m         \u001b[0mX\u001b[0m \u001b[0;34m=\u001b[0m \u001b[0mself\u001b[0m\u001b[0;34m.\u001b[0m\u001b[0m_validate_data\u001b[0m\u001b[0;34m(\u001b[0m\u001b[0mX\u001b[0m\u001b[0;34m,\u001b[0m \u001b[0mreset\u001b[0m\u001b[0;34m=\u001b[0m\u001b[0;32mFalse\u001b[0m\u001b[0;34m)\u001b[0m\u001b[0;34m\u001b[0m\u001b[0;34m\u001b[0m\u001b[0m\n\u001b[0m\u001b[1;32m    639\u001b[0m         \u001b[0;32mif\u001b[0m \u001b[0mself\u001b[0m\u001b[0;34m.\u001b[0m\u001b[0msolver\u001b[0m \u001b[0;34m==\u001b[0m \u001b[0;34m\"svd\"\u001b[0m\u001b[0;34m:\u001b[0m\u001b[0;34m\u001b[0m\u001b[0;34m\u001b[0m\u001b[0m\n\u001b[1;32m    640\u001b[0m             \u001b[0mX_new\u001b[0m \u001b[0;34m=\u001b[0m \u001b[0mnp\u001b[0m\u001b[0;34m.\u001b[0m\u001b[0mdot\u001b[0m\u001b[0;34m(\u001b[0m\u001b[0mX\u001b[0m \u001b[0;34m-\u001b[0m \u001b[0mself\u001b[0m\u001b[0;34m.\u001b[0m\u001b[0mxbar_\u001b[0m\u001b[0;34m,\u001b[0m \u001b[0mself\u001b[0m\u001b[0;34m.\u001b[0m\u001b[0mscalings_\u001b[0m\u001b[0;34m)\u001b[0m\u001b[0;34m\u001b[0m\u001b[0;34m\u001b[0m\u001b[0m\n",
            "\u001b[0;32m/usr/local/lib/python3.8/dist-packages/sklearn/base.py\u001b[0m in \u001b[0;36m_validate_data\u001b[0;34m(self, X, y, reset, validate_separately, **check_params)\u001b[0m\n\u001b[1;32m    583\u001b[0m \u001b[0;34m\u001b[0m\u001b[0m\n\u001b[1;32m    584\u001b[0m         \u001b[0;32mif\u001b[0m \u001b[0;32mnot\u001b[0m \u001b[0mno_val_X\u001b[0m \u001b[0;32mand\u001b[0m \u001b[0mcheck_params\u001b[0m\u001b[0;34m.\u001b[0m\u001b[0mget\u001b[0m\u001b[0;34m(\u001b[0m\u001b[0;34m\"ensure_2d\"\u001b[0m\u001b[0;34m,\u001b[0m \u001b[0;32mTrue\u001b[0m\u001b[0;34m)\u001b[0m\u001b[0;34m:\u001b[0m\u001b[0;34m\u001b[0m\u001b[0;34m\u001b[0m\u001b[0m\n\u001b[0;32m--> 585\u001b[0;31m             \u001b[0mself\u001b[0m\u001b[0;34m.\u001b[0m\u001b[0m_check_n_features\u001b[0m\u001b[0;34m(\u001b[0m\u001b[0mX\u001b[0m\u001b[0;34m,\u001b[0m \u001b[0mreset\u001b[0m\u001b[0;34m=\u001b[0m\u001b[0mreset\u001b[0m\u001b[0;34m)\u001b[0m\u001b[0;34m\u001b[0m\u001b[0;34m\u001b[0m\u001b[0m\n\u001b[0m\u001b[1;32m    586\u001b[0m \u001b[0;34m\u001b[0m\u001b[0m\n\u001b[1;32m    587\u001b[0m         \u001b[0;32mreturn\u001b[0m \u001b[0mout\u001b[0m\u001b[0;34m\u001b[0m\u001b[0;34m\u001b[0m\u001b[0m\n",
            "\u001b[0;32m/usr/local/lib/python3.8/dist-packages/sklearn/base.py\u001b[0m in \u001b[0;36m_check_n_features\u001b[0;34m(self, X, reset)\u001b[0m\n\u001b[1;32m    398\u001b[0m \u001b[0;34m\u001b[0m\u001b[0m\n\u001b[1;32m    399\u001b[0m         \u001b[0;32mif\u001b[0m \u001b[0mn_features\u001b[0m \u001b[0;34m!=\u001b[0m \u001b[0mself\u001b[0m\u001b[0;34m.\u001b[0m\u001b[0mn_features_in_\u001b[0m\u001b[0;34m:\u001b[0m\u001b[0;34m\u001b[0m\u001b[0;34m\u001b[0m\u001b[0m\n\u001b[0;32m--> 400\u001b[0;31m             raise ValueError(\n\u001b[0m\u001b[1;32m    401\u001b[0m                 \u001b[0;34mf\"X has {n_features} features, but {self.__class__.__name__} \"\u001b[0m\u001b[0;34m\u001b[0m\u001b[0;34m\u001b[0m\u001b[0m\n\u001b[1;32m    402\u001b[0m                 \u001b[0;34mf\"is expecting {self.n_features_in_} features as input.\"\u001b[0m\u001b[0;34m\u001b[0m\u001b[0;34m\u001b[0m\u001b[0m\n",
            "\u001b[0;31mValueError\u001b[0m: X has 205 features, but LinearDiscriminantAnalysis is expecting 5 features as input."
          ]
        }
      ]
    },
    {
      "cell_type": "code",
      "source": [
        "print(metrics.classification_report(expected_y, ypr))"
      ],
      "metadata": {
        "colab": {
          "base_uri": "https://localhost:8080/",
          "height": 165
        },
        "id": "OG5EKi7tH5JQ",
        "outputId": "21b54c08-e1fd-4b22-c8fd-c98364aa2b9b"
      },
      "execution_count": null,
      "outputs": [
        {
          "output_type": "error",
          "ename": "NameError",
          "evalue": "ignored",
          "traceback": [
            "\u001b[0;31m---------------------------------------------------------------------------\u001b[0m",
            "\u001b[0;31mNameError\u001b[0m                                 Traceback (most recent call last)",
            "\u001b[0;32m<ipython-input-28-3168ca54cc41>\u001b[0m in \u001b[0;36m<module>\u001b[0;34m\u001b[0m\n\u001b[0;32m----> 1\u001b[0;31m \u001b[0mprint\u001b[0m\u001b[0;34m(\u001b[0m\u001b[0mmetrics\u001b[0m\u001b[0;34m.\u001b[0m\u001b[0mclassification_report\u001b[0m\u001b[0;34m(\u001b[0m\u001b[0mexpected_y\u001b[0m\u001b[0;34m,\u001b[0m \u001b[0mypr\u001b[0m\u001b[0;34m)\u001b[0m\u001b[0;34m)\u001b[0m\u001b[0;34m\u001b[0m\u001b[0;34m\u001b[0m\u001b[0m\n\u001b[0m",
            "\u001b[0;31mNameError\u001b[0m: name 'ypr' is not defined"
          ]
        }
      ]
    },
    {
      "cell_type": "code",
      "source": [],
      "metadata": {
        "id": "ofbbsxSAIGHc"
      },
      "execution_count": null,
      "outputs": []
    }
  ]
}